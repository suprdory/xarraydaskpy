{
 "cells": [
  {
   "cell_type": "code",
   "execution_count": null,
   "id": "698c63b1-a915-4329-9800-3b23b06a2601",
   "metadata": {},
   "outputs": [],
   "source": [
    "import glob, os, pickle, datetime\n",
    "import xgrads\n",
    "import xarray as xa\n",
    "from matplotlib import pyplot as plt\n",
    "import numpy as np\n",
    "from dask.distributed import Client\n",
    "\n",
    "def fixTime(ctl):\n",
    "    dt2000secs=round((datetime.datetime(2000,1,1)-datetime.datetime(1,1,1)).total_seconds())    \n",
    "    ctl.tdef.samples=ctl.tdef.samples+dt2000secs\n",
    "    return(ctl)\n",
    "\n",
    "def getTimes(pathname):\n",
    "    ctl = xgrads.CtlDescriptor(file=pathname)\n",
    "    ctl=fixTime(ctl)\n",
    "    return (ctl.tdef.samples)\n",
    "\n",
    "def getCtlList(varname):\n",
    "    pathlist=glob.glob('ape_2/cntl/??????????/' + varname + '.ctl',recursive=True)\n",
    "    #build list of ctl objects for readin grads data\n",
    "    ctlListt2000=[fixTime(xgrads.CtlDescriptor(file=path)) for path in pathlist]\n",
    "    return(ctlListt2000)\n",
    "\n",
    "def getVarTimeMean(varname):\n",
    "    pathlist=glob.glob('interm/' + varname + '/*' + varname + '.tmean.nc',recursive=True)\n",
    "    #need to add time coord to tmean files (length 1) to permit multifile open along time axis\n",
    "    def preprocessing(ds): \n",
    "        return(ds.expand_dims(dim={'t':[np.datetime64(ds.attrs['t0'])]}))\n",
    "    ds = xa.open_mfdataset(pathlist, concat_dim='t',combine='by_coords', preprocess = preprocessing)\n",
    "    ds_tmean=ds.mean(dim='t').compute()\n",
    "    return ds_tmean[varname]"
   ]
  },
  {
   "cell_type": "code",
   "execution_count": null,
   "id": "6a672881-7450-41f4-8aae-69bbed63f608",
   "metadata": {},
   "outputs": [],
   "source": [
    "client = Client()\n",
    "client"
   ]
  },
  {
   "cell_type": "code",
   "execution_count": null,
   "id": "95717fb1-3889-47d6-ad81-bdf58f78663b",
   "metadata": {},
   "outputs": [],
   "source": [
    "z=0\n",
    "\n",
    "TctlList=getCtlList('T')\n",
    "Tds=xgrads.open_mfdataset(TctlList)\n",
    "Tz=Tds.T[:,z,:,:]\n",
    "Tzmean=getVarTimeMean('T')[z,:,:]\n",
    "\n",
    "VctlList=getCtlList('V')\n",
    "Vds=xgrads.open_mfdataset(VctlList)\n",
    "Vz=Vds.V[:,z,:,:]\n",
    "Vzmean=getVarTimeMean('V')[z,:,:]\n",
    "\n",
    "Tzprime=Tz-Tzmean\n",
    "Vzprime=Vz-Vzmean\n",
    "\n",
    "Tzprime=Tzprime.chunk('auto')\n",
    "Vzprime=Vzprime.chunk('auto')\n",
    "print(Tzprime)\n",
    "print(Vzprime)"
   ]
  },
  {
   "cell_type": "code",
   "execution_count": null,
   "id": "89a3ce0b-6205-4b87-987b-7802a95f2850",
   "metadata": {},
   "outputs": [],
   "source": [
    "VT=(Tzprime*Vzprime).mean(dim='time')\n",
    "VT"
   ]
  },
  {
   "cell_type": "code",
   "execution_count": null,
   "id": "4706f03a-4ccf-43d5-b95d-043efef83b48",
   "metadata": {},
   "outputs": [],
   "source": [
    "VT.compute()"
   ]
  },
  {
   "cell_type": "code",
   "execution_count": null,
   "id": "be8db3f9-e9bb-4c43-82e5-6ddfd32764f8",
   "metadata": {},
   "outputs": [],
   "source": [
    "VTcomp.to_netcdf('VT.nc')"
   ]
  },
  {
   "cell_type": "code",
   "execution_count": null,
   "id": "598c5ada-b3f1-414d-83ba-d9053d75ac28",
   "metadata": {},
   "outputs": [],
   "source": [
    "VT=xa.open_dataarray('VT.nc')\n",
    "VT"
   ]
  },
  {
   "cell_type": "code",
   "execution_count": null,
   "id": "940e09f2-6af4-405d-97dd-e4cfa9df8f17",
   "metadata": {},
   "outputs": [],
   "source": [
    "VT.plot()"
   ]
  }
 ],
 "metadata": {
  "kernelspec": {
   "display_name": "Python 3 (ipykernel)",
   "language": "python",
   "name": "python3"
  },
  "language_info": {
   "codemirror_mode": {
    "name": "ipython",
    "version": 3
   },
   "file_extension": ".py",
   "mimetype": "text/x-python",
   "name": "python",
   "nbconvert_exporter": "python",
   "pygments_lexer": "ipython3",
   "version": "3.8.10"
  }
 },
 "nbformat": 4,
 "nbformat_minor": 5
}
